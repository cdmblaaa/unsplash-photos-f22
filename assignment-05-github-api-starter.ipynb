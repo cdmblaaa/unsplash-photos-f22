{
 "cells": [
  {
   "cell_type": "markdown",
   "metadata": {},
   "source": [
    "# API and Github\n",
    "\n",
    "Follow the instruction: https://www.notion.so/harryjwang/Assignment-5-API-and-Github-2cefb78d67ca4446b2cadb2afe6adecb"
   ]
  },
  {
   "cell_type": "code",
   "execution_count": 1,
   "metadata": {},
   "outputs": [
    {
     "name": "stdout",
     "output_type": "stream",
     "text": [
      "125\n"
     ]
    }
   ],
   "source": [
    "# sample output\n",
    "import json\n",
    "import numpy as np\n",
    "f = open('photos.json')\n",
    "photos = json.load(f)\n",
    "f.close()\n",
    "#photos\n",
    "a = []\n",
    "c = []\n",
    "for i in photos:\n",
    "    a.append(i['id'])\n",
    "    if i['sponsorship'] != None:\n",
    "        c.append(i['sponsorship']['sponsor']['name'])\n",
    "    else:\n",
    "        continue\n",
    "\n",
    "\n",
    "print(len(a)) \n",
    "\n",
    "\n",
    "\n"
   ]
  },
  {
   "cell_type": "code",
   "execution_count": 2,
   "metadata": {},
   "outputs": [
    {
     "name": "stdout",
     "output_type": "stream",
     "text": [
      "There are 124 unique photos in the dataset.\n",
      "22 photos are sponsored and the sponsor percentage is 17.60%.\n",
      "There are 6 unique sponsors: Mailchimp, Microsoft 365, Microsoft Edge, Samsung Memory, Surface, Windows.\n"
     ]
    }
   ],
   "source": [
    "b = list(set(a))\n",
    "percentage = len(c)/len(a)\n",
    "sponsors = np.unique(c)\n",
    "print(f'There are {len(b)} unique photos in the dataset.')\n",
    "print(f'{len(c)} photos are sponsored and the sponsor percentage is {\"%.2f%%\" % (percentage * 100)}.')\n",
    "print(f'There are {len(sponsors)} unique sponsors: {\", \".join(str(i) for i in sponsors)}.')"
   ]
  },
  {
   "cell_type": "code",
   "execution_count": 38,
   "metadata": {},
   "outputs": [
    {
     "name": "stdout",
     "output_type": "stream",
     "text": [
      "Out of 124 photos, 98 have camera information.\n",
      "The summary of camera make information is as follows:\n",
      "Canon: 29 \n",
      "DJI: 2 \n",
      "FUJIFILM: 9 \n",
      "Fujifilm: 1 \n",
      "NIKON CORPORATION: 26 \n",
      "OLYMPUS CORPORATION: 1 \n",
      "Panasonic: 5 \n",
      "SONY: 25 \n"
     ]
    }
   ],
   "source": [
    "# sample output\n",
    "num = 0\n",
    "c_i = []\n",
    "c_i_final = []\n",
    "index = 0\n",
    "for i in photos:\n",
    "    if i['exif']['make'] != None:\n",
    "        c_i.append(i['exif']['make'])\n",
    "        num += 1\n",
    "    else:\n",
    "        continue\n",
    "\n",
    "\n",
    "print(f'Out of {len(b)} photos, {num} have camera information.')\n",
    "print('The summary of camera make information is as follows:')\n",
    "\n",
    "res = np.unique(c_i,return_counts= True)\n",
    "\n",
    "\n",
    "while index <=7:\n",
    "    print(f'{res[0][index]}: {res[1][index]} ')\n",
    "    index += 1\n",
    "\n",
    "\n",
    "\n",
    "\n",
    "\n",
    "\n",
    "\n"
   ]
  },
  {
   "cell_type": "code",
   "execution_count": null,
   "metadata": {},
   "outputs": [],
   "source": []
  }
 ],
 "metadata": {
  "kernelspec": {
   "display_name": "Python 3.9.12 ('base')",
   "language": "python",
   "name": "python3"
  },
  "language_info": {
   "codemirror_mode": {
    "name": "ipython",
    "version": 3
   },
   "file_extension": ".py",
   "mimetype": "text/x-python",
   "name": "python",
   "nbconvert_exporter": "python",
   "pygments_lexer": "ipython3",
   "version": "3.9.12"
  },
  "orig_nbformat": 4,
  "vscode": {
   "interpreter": {
    "hash": "f6922a9521a6ee1ce7f8c1dd0f269e02385237cdfa43bf19c0dcc609bd325874"
   }
  }
 },
 "nbformat": 4,
 "nbformat_minor": 2
}
